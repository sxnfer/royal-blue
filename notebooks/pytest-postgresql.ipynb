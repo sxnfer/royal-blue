{
 "cells": [
  {
   "cell_type": "code",
   "execution_count": 33,
   "id": "5160dcfc",
   "metadata": {},
   "outputs": [],
   "source": [
    "import ipytest\n",
    "import pytest\n",
    "from pytest_postgresql import factories\n",
    "from pytest_postgresql.janitor import DatabaseJanitor\n",
    "from pytest_postgresql.executor import PostgreSQLExecutor\n",
    "\n",
    "from psycopg import Connection, Error, connect, conninfo, sql\n",
    "from psycopg.rows import DictRow, dict_row\n",
    "from sql.create_totesys_tables_query import (\n",
    "    create_totesys_tables_query,\n",
    ")\n",
    "from sql.seed_data.totesys_seed_data import totesys_seed_data\n",
    "\n",
    "ipytest.autoconfig()"
   ]
  }
 ],
 "metadata": {
  "kernelspec": {
   "display_name": "royal-blue (3.13.3)",
   "language": "python",
   "name": "python3"
  },
  "language_info": {
   "codemirror_mode": {
    "name": "ipython",
    "version": 3
   },
   "file_extension": ".py",
   "mimetype": "text/x-python",
   "name": "python",
   "nbconvert_exporter": "python",
   "pygments_lexer": "ipython3",
   "version": "3.13.3"
  }
 },
 "nbformat": 4,
 "nbformat_minor": 5
}
