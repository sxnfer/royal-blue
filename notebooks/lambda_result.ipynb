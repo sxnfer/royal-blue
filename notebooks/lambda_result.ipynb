{
 "cells": [
  {
   "cell_type": "markdown",
   "id": "47e1118b",
   "metadata": {},
   "source": [
    "# Testing Lambda Function result objects using pydantic model validation"
   ]
  },
  {
   "cell_type": "code",
   "execution_count": null,
   "id": "a94a1e0b",
   "metadata": {},
   "outputs": [
    {
     "name": "stdout",
     "output_type": "stream",
     "text": [
      "files_to_process=[StateLogItem(table_name='counterparty', last_updated=datetime.datetime(2022, 11, 3, 14, 20, 51, 563000), operation_timestamp=datetime.datetime(2025, 6, 11, 22, 7, 36, 781481), file_name='counterparty_2022-11-3_14-20-51_563000.parquet', key='2022/11/3/counterparty_2022-11-3_14-20-51_563000.parquet'), StateLogItem(table_name='address', last_updated=datetime.datetime(2022, 11, 3, 14, 20, 49, 962000), operation_timestamp=datetime.datetime(2025, 6, 11, 22, 7, 40, 862190), file_name='address_2022-11-3_14-20-49_962000.parquet', key='2022/11/3/address_2022-11-3_14-20-49_962000.parquet'), StateLogItem(table_name='department', last_updated=datetime.datetime(2022, 11, 3, 14, 20, 49, 962000), operation_timestamp=datetime.datetime(2025, 6, 11, 22, 7, 41, 181464), file_name='department_2022-11-3_14-20-49_962000.parquet', key='2022/11/3/department_2022-11-3_14-20-49_962000.parquet')]\n"
     ]
    }
   ],
   "source": [
    "from src.utils.pydantic_models import LambdaResult\n",
    "\n",
    "event = {\n",
    "    \"files_to_process\": [\n",
    "        {\n",
    "            \"table_name\": \"counterparty\",\n",
    "            \"operation_timestamp\": \"2025-06-11T22:07:36.781481\",\n",
    "            \"last_updated\": \"2022-11-03T14:20:51.563000\",\n",
    "            \"file_name\": \"counterparty_2022-11-3_14-20-51_563000.parquet\",\n",
    "            \"key\": \"2022/11/3/counterparty_2022-11-3_14-20-51_563000.parquet\",\n",
    "        },\n",
    "        {\n",
    "            \"table_name\": \"address\",\n",
    "            \"operation_timestamp\": \"2025-06-11T22:07:40.862190\",\n",
    "            \"last_updated\": \"2022-11-03T14:20:49.962000\",\n",
    "            \"file_name\": \"address_2022-11-3_14-20-49_962000.parquet\",\n",
    "            \"key\": \"2022/11/3/address_2022-11-3_14-20-49_962000.parquet\",\n",
    "        },\n",
    "        {\n",
    "            \"table_name\": \"department\",\n",
    "            \"operation_timestamp\": \"2025-06-11T22:07:41.181464\",\n",
    "            \"last_updated\": \"2022-11-03T14:20:49.962000\",\n",
    "            \"file_name\": \"department_2022-11-3_14-20-49_962000.parquet\",\n",
    "            \"key\": \"2022/11/3/department_2022-11-3_14-20-49_962000.parquet\",\n",
    "        },\n",
    "    ]\n",
    "}\n",
    "parsed_event = LambdaResult.model_validate(event)\n",
    "print(parsed_event)"
   ]
  }
 ],
 "metadata": {
  "kernelspec": {
   "display_name": "royal-blue (3.13.3)",
   "language": "python",
   "name": "python3"
  },
  "language_info": {
   "codemirror_mode": {
    "name": "ipython",
    "version": 3
   },
   "file_extension": ".py",
   "mimetype": "text/x-python",
   "name": "python",
   "nbconvert_exporter": "python",
   "pygments_lexer": "ipython3",
   "version": "3.13.3"
  }
 },
 "nbformat": 4,
 "nbformat_minor": 5
}
